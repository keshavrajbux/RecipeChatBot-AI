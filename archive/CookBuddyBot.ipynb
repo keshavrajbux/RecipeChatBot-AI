{
 "cells": [
  {
   "cell_type": "code",
   "execution_count": 1,
   "metadata": {},
   "outputs": [],
   "source": [
    "import pandas as pd\n",
    "import numpy as np\n",
    "import re\n",
    "from sklearn.model_selection import train_test_split\n",
    "import json"
   ]
  },
  {
   "cell_type": "code",
   "execution_count": 3,
   "metadata": {},
   "outputs": [
    {
     "data": {
      "text/html": [
       "<div>\n",
       "<style scoped>\n",
       "    .dataframe tbody tr th:only-of-type {\n",
       "        vertical-align: middle;\n",
       "    }\n",
       "\n",
       "    .dataframe tbody tr th {\n",
       "        vertical-align: top;\n",
       "    }\n",
       "\n",
       "    .dataframe thead th {\n",
       "        text-align: right;\n",
       "    }\n",
       "</style>\n",
       "<table border=\"1\" class=\"dataframe\">\n",
       "  <thead>\n",
       "    <tr style=\"text-align: right;\">\n",
       "      <th></th>\n",
       "      <th>Unnamed: 0</th>\n",
       "      <th>title</th>\n",
       "      <th>ingredients</th>\n",
       "      <th>directions</th>\n",
       "      <th>link</th>\n",
       "      <th>source</th>\n",
       "      <th>NER</th>\n",
       "    </tr>\n",
       "  </thead>\n",
       "  <tbody>\n",
       "    <tr>\n",
       "      <th>0</th>\n",
       "      <td>0</td>\n",
       "      <td>No-Bake Nut Cookies</td>\n",
       "      <td>[\"1 c. firmly packed brown sugar\", \"1/2 c. eva...</td>\n",
       "      <td>[\"In a heavy 2-quart saucepan, mix brown sugar...</td>\n",
       "      <td>www.cookbooks.com/Recipe-Details.aspx?id=44874</td>\n",
       "      <td>Gathered</td>\n",
       "      <td>[\"brown sugar\", \"milk\", \"vanilla\", \"nuts\", \"bu...</td>\n",
       "    </tr>\n",
       "    <tr>\n",
       "      <th>1</th>\n",
       "      <td>1</td>\n",
       "      <td>Jewell Ball'S Chicken</td>\n",
       "      <td>[\"1 small jar chipped beef, cut up\", \"4 boned ...</td>\n",
       "      <td>[\"Place chipped beef on bottom of baking dish....</td>\n",
       "      <td>www.cookbooks.com/Recipe-Details.aspx?id=699419</td>\n",
       "      <td>Gathered</td>\n",
       "      <td>[\"beef\", \"chicken breasts\", \"cream of mushroom...</td>\n",
       "    </tr>\n",
       "    <tr>\n",
       "      <th>2</th>\n",
       "      <td>2</td>\n",
       "      <td>Creamy Corn</td>\n",
       "      <td>[\"2 (16 oz.) pkg. frozen corn\", \"1 (8 oz.) pkg...</td>\n",
       "      <td>[\"In a slow cooker, combine all ingredients. C...</td>\n",
       "      <td>www.cookbooks.com/Recipe-Details.aspx?id=10570</td>\n",
       "      <td>Gathered</td>\n",
       "      <td>[\"frozen corn\", \"cream cheese\", \"butter\", \"gar...</td>\n",
       "    </tr>\n",
       "    <tr>\n",
       "      <th>3</th>\n",
       "      <td>3</td>\n",
       "      <td>Chicken Funny</td>\n",
       "      <td>[\"1 large whole chicken\", \"2 (10 1/2 oz.) cans...</td>\n",
       "      <td>[\"Boil and debone chicken.\", \"Put bite size pi...</td>\n",
       "      <td>www.cookbooks.com/Recipe-Details.aspx?id=897570</td>\n",
       "      <td>Gathered</td>\n",
       "      <td>[\"chicken\", \"chicken gravy\", \"cream of mushroo...</td>\n",
       "    </tr>\n",
       "    <tr>\n",
       "      <th>4</th>\n",
       "      <td>4</td>\n",
       "      <td>Reeses Cups(Candy)</td>\n",
       "      <td>[\"1 c. peanut butter\", \"3/4 c. graham cracker ...</td>\n",
       "      <td>[\"Combine first four ingredients and press in ...</td>\n",
       "      <td>www.cookbooks.com/Recipe-Details.aspx?id=659239</td>\n",
       "      <td>Gathered</td>\n",
       "      <td>[\"peanut butter\", \"graham cracker crumbs\", \"bu...</td>\n",
       "    </tr>\n",
       "  </tbody>\n",
       "</table>\n",
       "</div>"
      ],
      "text/plain": [
       "   Unnamed: 0                  title   \n",
       "0           0    No-Bake Nut Cookies  \\\n",
       "1           1  Jewell Ball'S Chicken   \n",
       "2           2            Creamy Corn   \n",
       "3           3          Chicken Funny   \n",
       "4           4   Reeses Cups(Candy)     \n",
       "\n",
       "                                         ingredients   \n",
       "0  [\"1 c. firmly packed brown sugar\", \"1/2 c. eva...  \\\n",
       "1  [\"1 small jar chipped beef, cut up\", \"4 boned ...   \n",
       "2  [\"2 (16 oz.) pkg. frozen corn\", \"1 (8 oz.) pkg...   \n",
       "3  [\"1 large whole chicken\", \"2 (10 1/2 oz.) cans...   \n",
       "4  [\"1 c. peanut butter\", \"3/4 c. graham cracker ...   \n",
       "\n",
       "                                          directions   \n",
       "0  [\"In a heavy 2-quart saucepan, mix brown sugar...  \\\n",
       "1  [\"Place chipped beef on bottom of baking dish....   \n",
       "2  [\"In a slow cooker, combine all ingredients. C...   \n",
       "3  [\"Boil and debone chicken.\", \"Put bite size pi...   \n",
       "4  [\"Combine first four ingredients and press in ...   \n",
       "\n",
       "                                              link    source   \n",
       "0   www.cookbooks.com/Recipe-Details.aspx?id=44874  Gathered  \\\n",
       "1  www.cookbooks.com/Recipe-Details.aspx?id=699419  Gathered   \n",
       "2   www.cookbooks.com/Recipe-Details.aspx?id=10570  Gathered   \n",
       "3  www.cookbooks.com/Recipe-Details.aspx?id=897570  Gathered   \n",
       "4  www.cookbooks.com/Recipe-Details.aspx?id=659239  Gathered   \n",
       "\n",
       "                                                 NER  \n",
       "0  [\"brown sugar\", \"milk\", \"vanilla\", \"nuts\", \"bu...  \n",
       "1  [\"beef\", \"chicken breasts\", \"cream of mushroom...  \n",
       "2  [\"frozen corn\", \"cream cheese\", \"butter\", \"gar...  \n",
       "3  [\"chicken\", \"chicken gravy\", \"cream of mushroo...  \n",
       "4  [\"peanut butter\", \"graham cracker crumbs\", \"bu...  "
      ]
     },
     "execution_count": 3,
     "metadata": {},
     "output_type": "execute_result"
    }
   ],
   "source": [
    "#import a csv file in a pandas dataframe\n",
    "df = pd.read_csv('../Dataset/full_dataset.csv').head(40000)\n",
    "df.head()"
   ]
  },
  {
   "cell_type": "code",
   "execution_count": 4,
   "metadata": {},
   "outputs": [
    {
     "name": "stdout",
     "output_type": "stream",
     "text": [
      "Unnamed: 0      int64\n",
      "title          object\n",
      "ingredients    object\n",
      "directions     object\n",
      "link           object\n",
      "source         object\n",
      "NER            object\n",
      "dtype: object\n"
     ]
    }
   ],
   "source": [
    "# get the datatypes of all the columns\n",
    "print(df.dtypes)"
   ]
  },
  {
   "cell_type": "code",
   "execution_count": 5,
   "metadata": {},
   "outputs": [
    {
     "data": {
      "text/plain": [
       "(40000, 7)"
      ]
     },
     "execution_count": 5,
     "metadata": {},
     "output_type": "execute_result"
    }
   ],
   "source": [
    "df.shape"
   ]
  },
  {
   "cell_type": "code",
   "execution_count": 6,
   "metadata": {},
   "outputs": [
    {
     "name": "stdout",
     "output_type": "stream",
     "text": [
      "object\n",
      "23484\n"
     ]
    }
   ],
   "source": [
    "# what is the datatype of title column?\n",
    "print(df['title'].dtype)\n",
    "\n",
    "# convert the title column to a string\n",
    "df['title'] = df['title'].astype(str)\n",
    "\n",
    "# e.g. How many unique job titles are there?\n",
    "print(df['title'].nunique())\n",
    "\n"
   ]
  },
  {
   "cell_type": "code",
   "execution_count": 7,
   "metadata": {},
   "outputs": [],
   "source": [
    "# filters out rows with very short titles\n",
    "# filters out rows with very short ingredients\n",
    "# filters out rows with very short directions\n",
    "# filters out rows with directions that have a step or mix all in them because that would not be a good instruction to give to the user.\n",
    "remove1 = df.loc[df.title.map(lambda x: len(x)<4 )]\n",
    "remove2 = df.loc[df.ingredients.map(lambda x: len(x)<2)]\n",
    "remove3 = df.loc[df.directions.map(lambda x: len(x) < 2 or len(''.join(x)) < 30)]\n",
    "remove4 = df.loc[df.directions.map(lambda x: re.search('(step|mix all)', ''.join(str(x)), re.IGNORECASE)!=None)]"
   ]
  },
  {
   "cell_type": "code",
   "execution_count": 8,
   "metadata": {},
   "outputs": [
    {
     "data": {
      "text/plain": [
       "3049"
      ]
     },
     "execution_count": 8,
     "metadata": {},
     "output_type": "execute_result"
    }
   ],
   "source": [
    "len(remove1)+len(remove2)+len(remove3)+len(remove4)"
   ]
  },
  {
   "cell_type": "code",
   "execution_count": 9,
   "metadata": {},
   "outputs": [
    {
     "data": {
      "text/html": [
       "<div>\n",
       "<style scoped>\n",
       "    .dataframe tbody tr th:only-of-type {\n",
       "        vertical-align: middle;\n",
       "    }\n",
       "\n",
       "    .dataframe tbody tr th {\n",
       "        vertical-align: top;\n",
       "    }\n",
       "\n",
       "    .dataframe thead th {\n",
       "        text-align: right;\n",
       "    }\n",
       "</style>\n",
       "<table border=\"1\" class=\"dataframe\">\n",
       "  <thead>\n",
       "    <tr style=\"text-align: right;\">\n",
       "      <th></th>\n",
       "      <th>Unnamed: 0</th>\n",
       "      <th>title</th>\n",
       "      <th>ingredients</th>\n",
       "      <th>directions</th>\n",
       "      <th>link</th>\n",
       "      <th>source</th>\n",
       "      <th>NER</th>\n",
       "    </tr>\n",
       "  </thead>\n",
       "  <tbody>\n",
       "    <tr>\n",
       "      <th>0</th>\n",
       "      <td>0</td>\n",
       "      <td>No-Bake Nut Cookies</td>\n",
       "      <td>[\"1 c. firmly packed brown sugar\", \"1/2 c. eva...</td>\n",
       "      <td>[\"In a heavy 2-quart saucepan, mix brown sugar...</td>\n",
       "      <td>www.cookbooks.com/Recipe-Details.aspx?id=44874</td>\n",
       "      <td>Gathered</td>\n",
       "      <td>[\"brown sugar\", \"milk\", \"vanilla\", \"nuts\", \"bu...</td>\n",
       "    </tr>\n",
       "    <tr>\n",
       "      <th>1</th>\n",
       "      <td>1</td>\n",
       "      <td>Jewell Ball'S Chicken</td>\n",
       "      <td>[\"1 small jar chipped beef, cut up\", \"4 boned ...</td>\n",
       "      <td>[\"Place chipped beef on bottom of baking dish....</td>\n",
       "      <td>www.cookbooks.com/Recipe-Details.aspx?id=699419</td>\n",
       "      <td>Gathered</td>\n",
       "      <td>[\"beef\", \"chicken breasts\", \"cream of mushroom...</td>\n",
       "    </tr>\n",
       "    <tr>\n",
       "      <th>2</th>\n",
       "      <td>2</td>\n",
       "      <td>Creamy Corn</td>\n",
       "      <td>[\"2 (16 oz.) pkg. frozen corn\", \"1 (8 oz.) pkg...</td>\n",
       "      <td>[\"In a slow cooker, combine all ingredients. C...</td>\n",
       "      <td>www.cookbooks.com/Recipe-Details.aspx?id=10570</td>\n",
       "      <td>Gathered</td>\n",
       "      <td>[\"frozen corn\", \"cream cheese\", \"butter\", \"gar...</td>\n",
       "    </tr>\n",
       "    <tr>\n",
       "      <th>3</th>\n",
       "      <td>3</td>\n",
       "      <td>Chicken Funny</td>\n",
       "      <td>[\"1 large whole chicken\", \"2 (10 1/2 oz.) cans...</td>\n",
       "      <td>[\"Boil and debone chicken.\", \"Put bite size pi...</td>\n",
       "      <td>www.cookbooks.com/Recipe-Details.aspx?id=897570</td>\n",
       "      <td>Gathered</td>\n",
       "      <td>[\"chicken\", \"chicken gravy\", \"cream of mushroo...</td>\n",
       "    </tr>\n",
       "    <tr>\n",
       "      <th>4</th>\n",
       "      <td>4</td>\n",
       "      <td>Reeses Cups(Candy)</td>\n",
       "      <td>[\"1 c. peanut butter\", \"3/4 c. graham cracker ...</td>\n",
       "      <td>[\"Combine first four ingredients and press in ...</td>\n",
       "      <td>www.cookbooks.com/Recipe-Details.aspx?id=659239</td>\n",
       "      <td>Gathered</td>\n",
       "      <td>[\"peanut butter\", \"graham cracker crumbs\", \"bu...</td>\n",
       "    </tr>\n",
       "    <tr>\n",
       "      <th>...</th>\n",
       "      <td>...</td>\n",
       "      <td>...</td>\n",
       "      <td>...</td>\n",
       "      <td>...</td>\n",
       "      <td>...</td>\n",
       "      <td>...</td>\n",
       "      <td>...</td>\n",
       "    </tr>\n",
       "    <tr>\n",
       "      <th>39995</th>\n",
       "      <td>39995</td>\n",
       "      <td>Easter Basket Cake</td>\n",
       "      <td>[\"1 pkg. Duncan Hines moist deluxe cake mix (a...</td>\n",
       "      <td>[\"Preheat oven to 350\\u00b0.\", \"Grease and flo...</td>\n",
       "      <td>www.cookbooks.com/Recipe-Details.aspx?id=153212</td>\n",
       "      <td>Gathered</td>\n",
       "      <td>[\"Duncan\", \"chocolate layer cake frosting\", \"c...</td>\n",
       "    </tr>\n",
       "    <tr>\n",
       "      <th>39996</th>\n",
       "      <td>39996</td>\n",
       "      <td>Rouladen(A Beautiful Make Ahead For A Buffet; ...</td>\n",
       "      <td>[\"4 to 5 lb. \\\"eye of round\\\" roast\", \"2 large...</td>\n",
       "      <td>[\"Have meat cutter cut roast (across grain) in...</td>\n",
       "      <td>www.cookbooks.com/Recipe-Details.aspx?id=752316</td>\n",
       "      <td>Gathered</td>\n",
       "      <td>[\"roast\", \"onions\", \"thyme\", \"black pepper\", \"...</td>\n",
       "    </tr>\n",
       "    <tr>\n",
       "      <th>39997</th>\n",
       "      <td>39997</td>\n",
       "      <td>Seven Layer Cookies</td>\n",
       "      <td>[\"1/2 lb. melted butter\", \"2 c. graham cracker...</td>\n",
       "      <td>[\"Layer in an 8 x 8-inch pan.\", \"Do not stir.\"...</td>\n",
       "      <td>www.cookbooks.com/Recipe-Details.aspx?id=728609</td>\n",
       "      <td>Gathered</td>\n",
       "      <td>[\"butter\", \"graham crackers\", \"coconut\", \"butt...</td>\n",
       "    </tr>\n",
       "    <tr>\n",
       "      <th>39998</th>\n",
       "      <td>39998</td>\n",
       "      <td>Cavatini</td>\n",
       "      <td>[\"1 lb. hamburger\", \"1 lb. Italian sausage\", \"...</td>\n",
       "      <td>[\"Brown hamburger and sausage; add garlic, oni...</td>\n",
       "      <td>www.cookbooks.com/Recipe-Details.aspx?id=879946</td>\n",
       "      <td>Gathered</td>\n",
       "      <td>[\"hamburger\", \"Italian sausage\", \"clove garlic...</td>\n",
       "    </tr>\n",
       "    <tr>\n",
       "      <th>39999</th>\n",
       "      <td>39999</td>\n",
       "      <td>Cavatini</td>\n",
       "      <td>[\"1 lb. ground beef\", \"1 clove garlic, chopped...</td>\n",
       "      <td>[\"Brown ground beef, stirring until crumbly.\",...</td>\n",
       "      <td>www.cookbooks.com/Recipe-Details.aspx?id=778621</td>\n",
       "      <td>Gathered</td>\n",
       "      <td>[\"ground beef\", \"clove garlic\", \"onion\", \"gree...</td>\n",
       "    </tr>\n",
       "  </tbody>\n",
       "</table>\n",
       "<p>37049 rows × 7 columns</p>\n",
       "</div>"
      ],
      "text/plain": [
       "       Unnamed: 0                                              title   \n",
       "0               0                                No-Bake Nut Cookies  \\\n",
       "1               1                              Jewell Ball'S Chicken   \n",
       "2               2                                        Creamy Corn   \n",
       "3               3                                      Chicken Funny   \n",
       "4               4                               Reeses Cups(Candy)     \n",
       "...           ...                                                ...   \n",
       "39995       39995                                 Easter Basket Cake   \n",
       "39996       39996  Rouladen(A Beautiful Make Ahead For A Buffet; ...   \n",
       "39997       39997                                Seven Layer Cookies   \n",
       "39998       39998                                           Cavatini   \n",
       "39999       39999                                           Cavatini   \n",
       "\n",
       "                                             ingredients   \n",
       "0      [\"1 c. firmly packed brown sugar\", \"1/2 c. eva...  \\\n",
       "1      [\"1 small jar chipped beef, cut up\", \"4 boned ...   \n",
       "2      [\"2 (16 oz.) pkg. frozen corn\", \"1 (8 oz.) pkg...   \n",
       "3      [\"1 large whole chicken\", \"2 (10 1/2 oz.) cans...   \n",
       "4      [\"1 c. peanut butter\", \"3/4 c. graham cracker ...   \n",
       "...                                                  ...   \n",
       "39995  [\"1 pkg. Duncan Hines moist deluxe cake mix (a...   \n",
       "39996  [\"4 to 5 lb. \\\"eye of round\\\" roast\", \"2 large...   \n",
       "39997  [\"1/2 lb. melted butter\", \"2 c. graham cracker...   \n",
       "39998  [\"1 lb. hamburger\", \"1 lb. Italian sausage\", \"...   \n",
       "39999  [\"1 lb. ground beef\", \"1 clove garlic, chopped...   \n",
       "\n",
       "                                              directions   \n",
       "0      [\"In a heavy 2-quart saucepan, mix brown sugar...  \\\n",
       "1      [\"Place chipped beef on bottom of baking dish....   \n",
       "2      [\"In a slow cooker, combine all ingredients. C...   \n",
       "3      [\"Boil and debone chicken.\", \"Put bite size pi...   \n",
       "4      [\"Combine first four ingredients and press in ...   \n",
       "...                                                  ...   \n",
       "39995  [\"Preheat oven to 350\\u00b0.\", \"Grease and flo...   \n",
       "39996  [\"Have meat cutter cut roast (across grain) in...   \n",
       "39997  [\"Layer in an 8 x 8-inch pan.\", \"Do not stir.\"...   \n",
       "39998  [\"Brown hamburger and sausage; add garlic, oni...   \n",
       "39999  [\"Brown ground beef, stirring until crumbly.\",...   \n",
       "\n",
       "                                                  link    source   \n",
       "0       www.cookbooks.com/Recipe-Details.aspx?id=44874  Gathered  \\\n",
       "1      www.cookbooks.com/Recipe-Details.aspx?id=699419  Gathered   \n",
       "2       www.cookbooks.com/Recipe-Details.aspx?id=10570  Gathered   \n",
       "3      www.cookbooks.com/Recipe-Details.aspx?id=897570  Gathered   \n",
       "4      www.cookbooks.com/Recipe-Details.aspx?id=659239  Gathered   \n",
       "...                                                ...       ...   \n",
       "39995  www.cookbooks.com/Recipe-Details.aspx?id=153212  Gathered   \n",
       "39996  www.cookbooks.com/Recipe-Details.aspx?id=752316  Gathered   \n",
       "39997  www.cookbooks.com/Recipe-Details.aspx?id=728609  Gathered   \n",
       "39998  www.cookbooks.com/Recipe-Details.aspx?id=879946  Gathered   \n",
       "39999  www.cookbooks.com/Recipe-Details.aspx?id=778621  Gathered   \n",
       "\n",
       "                                                     NER  \n",
       "0      [\"brown sugar\", \"milk\", \"vanilla\", \"nuts\", \"bu...  \n",
       "1      [\"beef\", \"chicken breasts\", \"cream of mushroom...  \n",
       "2      [\"frozen corn\", \"cream cheese\", \"butter\", \"gar...  \n",
       "3      [\"chicken\", \"chicken gravy\", \"cream of mushroo...  \n",
       "4      [\"peanut butter\", \"graham cracker crumbs\", \"bu...  \n",
       "...                                                  ...  \n",
       "39995  [\"Duncan\", \"chocolate layer cake frosting\", \"c...  \n",
       "39996  [\"roast\", \"onions\", \"thyme\", \"black pepper\", \"...  \n",
       "39997  [\"butter\", \"graham crackers\", \"coconut\", \"butt...  \n",
       "39998  [\"hamburger\", \"Italian sausage\", \"clove garlic...  \n",
       "39999  [\"ground beef\", \"clove garlic\", \"onion\", \"gree...  \n",
       "\n",
       "[37049 rows x 7 columns]"
      ]
     },
     "execution_count": 9,
     "metadata": {},
     "output_type": "execute_result"
    }
   ],
   "source": [
    "df.drop(remove1.index)\n",
    "df.drop(remove2.index)\n",
    "df.drop(remove3.index)\n",
    "df.drop(remove4.index)"
   ]
  },
  {
   "cell_type": "code",
   "execution_count": 10,
   "metadata": {},
   "outputs": [],
   "source": [
    "df.reset_index(drop=True, inplace=True)"
   ]
  },
  {
   "cell_type": "code",
   "execution_count": 11,
   "metadata": {},
   "outputs": [
    {
     "data": {
      "text/plain": [
       "(40000, 7)"
      ]
     },
     "execution_count": 11,
     "metadata": {},
     "output_type": "execute_result"
    }
   ],
   "source": [
    "df.shape"
   ]
  },
  {
   "cell_type": "code",
   "execution_count": 12,
   "metadata": {},
   "outputs": [
    {
     "data": {
      "text/html": [
       "<div>\n",
       "<style scoped>\n",
       "    .dataframe tbody tr th:only-of-type {\n",
       "        vertical-align: middle;\n",
       "    }\n",
       "\n",
       "    .dataframe tbody tr th {\n",
       "        vertical-align: top;\n",
       "    }\n",
       "\n",
       "    .dataframe thead th {\n",
       "        text-align: right;\n",
       "    }\n",
       "</style>\n",
       "<table border=\"1\" class=\"dataframe\">\n",
       "  <thead>\n",
       "    <tr style=\"text-align: right;\">\n",
       "      <th></th>\n",
       "      <th>Unnamed: 0</th>\n",
       "      <th>title</th>\n",
       "      <th>ingredients</th>\n",
       "      <th>directions</th>\n",
       "      <th>link</th>\n",
       "      <th>source</th>\n",
       "      <th>NER</th>\n",
       "    </tr>\n",
       "  </thead>\n",
       "  <tbody>\n",
       "    <tr>\n",
       "      <th>0</th>\n",
       "      <td>0</td>\n",
       "      <td>No-Bake Nut Cookies</td>\n",
       "      <td>[\"1 c. firmly packed brown sugar\", \"1/2 c. eva...</td>\n",
       "      <td>[\"In a heavy 2-quart saucepan, mix brown sugar...</td>\n",
       "      <td>www.cookbooks.com/Recipe-Details.aspx?id=44874</td>\n",
       "      <td>Gathered</td>\n",
       "      <td>[\"brown sugar\", \"milk\", \"vanilla\", \"nuts\", \"bu...</td>\n",
       "    </tr>\n",
       "    <tr>\n",
       "      <th>1</th>\n",
       "      <td>1</td>\n",
       "      <td>Jewell Ball'S Chicken</td>\n",
       "      <td>[\"1 small jar chipped beef, cut up\", \"4 boned ...</td>\n",
       "      <td>[\"Place chipped beef on bottom of baking dish....</td>\n",
       "      <td>www.cookbooks.com/Recipe-Details.aspx?id=699419</td>\n",
       "      <td>Gathered</td>\n",
       "      <td>[\"beef\", \"chicken breasts\", \"cream of mushroom...</td>\n",
       "    </tr>\n",
       "  </tbody>\n",
       "</table>\n",
       "</div>"
      ],
      "text/plain": [
       "   Unnamed: 0                  title   \n",
       "0           0    No-Bake Nut Cookies  \\\n",
       "1           1  Jewell Ball'S Chicken   \n",
       "\n",
       "                                         ingredients   \n",
       "0  [\"1 c. firmly packed brown sugar\", \"1/2 c. eva...  \\\n",
       "1  [\"1 small jar chipped beef, cut up\", \"4 boned ...   \n",
       "\n",
       "                                          directions   \n",
       "0  [\"In a heavy 2-quart saucepan, mix brown sugar...  \\\n",
       "1  [\"Place chipped beef on bottom of baking dish....   \n",
       "\n",
       "                                              link    source   \n",
       "0   www.cookbooks.com/Recipe-Details.aspx?id=44874  Gathered  \\\n",
       "1  www.cookbooks.com/Recipe-Details.aspx?id=699419  Gathered   \n",
       "\n",
       "                                                 NER  \n",
       "0  [\"brown sugar\", \"milk\", \"vanilla\", \"nuts\", \"bu...  \n",
       "1  [\"beef\", \"chicken breasts\", \"cream of mushroom...  "
      ]
     },
     "execution_count": 12,
     "metadata": {},
     "output_type": "execute_result"
    }
   ],
   "source": [
    "df.head(2)"
   ]
  },
  {
   "cell_type": "code",
   "execution_count": 13,
   "metadata": {},
   "outputs": [],
   "source": [
    "import numpy as np\n",
    "train, test = train_test_split(df, test_size=0.20) #use 8% for test set"
   ]
  },
  {
   "cell_type": "code",
   "execution_count": 14,
   "metadata": {},
   "outputs": [
    {
     "name": "stdout",
     "output_type": "stream",
     "text": [
      "(32000, 7) (8000, 7)\n"
     ]
    }
   ],
   "source": [
    "print(train.shape, test.shape)"
   ]
  },
  {
   "cell_type": "code",
   "execution_count": 15,
   "metadata": {},
   "outputs": [],
   "source": [
    "train.reset_index(drop=True, inplace=True)\n",
    "test.reset_index(drop=True, inplace=True)"
   ]
  },
  {
   "cell_type": "code",
   "execution_count": 16,
   "metadata": {},
   "outputs": [],
   "source": [
    "# create a function to create a plaintext file from the dataset\n",
    "def df_to_plaintext_file(input_df, output_file):\n",
    "    print(\"Writing to\", output_file)\n",
    "    with open(output_file, 'w', encoding='utf-8') as f:\n",
    "        for index, row in input_df.iterrows():\n",
    "            if index%100000==0:\n",
    "                print(index)\n",
    "            if type(row.NER)!=str:\n",
    "                continue\n",
    "            title = row.title\n",
    "            directions = json.loads(row.directions)\n",
    "            ingredients = json.loads(row.ingredients)\n",
    "            ner = json.loads(row.NER)\n",
    "            res = \"<RECIPE_START> <INPUT_START> \" + \" <NEXT_INPUT> \".join(ner) + \" <INPUT_END> <INGR_START> \" + \\\n",
    "              \" <NEXT_INGR> \".join(ingredients) + \" <INGR_END> <INSTR_START> \" + \\\n",
    "              \" <NEXT_INSTR> \".join(directions) + \" <INSTR_END> <TITLE_START> \" + title + \" <TITLE_END> <RECIPE_END>\"\n",
    "            f.write(\"{}\\n\".format(res))\n"
   ]
  },
  {
   "cell_type": "code",
   "execution_count": 17,
   "metadata": {},
   "outputs": [
    {
     "name": "stdout",
     "output_type": "stream",
     "text": [
      "Writing to unsupervised_train.txt\n",
      "0\n",
      "Writing to unsupervised_test.txt\n",
      "0\n"
     ]
    }
   ],
   "source": [
    "df_to_plaintext_file(train, 'unsupervised_train.txt')\n",
    "df_to_plaintext_file(test, 'unsupervised_test.txt')"
   ]
  },
  {
   "cell_type": "code",
   "execution_count": 18,
   "metadata": {},
   "outputs": [
    {
     "name": "stdout",
     "output_type": "stream",
     "text": [
      "First Record:\n",
      "<RECIPE_START> <INPUT_START> broccoli <NEXT_INPUT> cream of mushroom soup <NEXT_INPUT> mayonnaise <NEXT_INPUT> eggs <NEXT_INPUT> onion soup <NEXT_INPUT> Cheddar cheese <INPUT_END> <INGR_START> 2 small or 1 large frozen chopped broccoli <NEXT_INGR> 1 can cream of mushroom soup <NEXT_INGR> 3/4 c. mayonnaise (use only mayonnaise) <NEXT_INGR> 2 eggs, beaten <NEXT_INGR> 1/2 pkg. Lipton instant onion soup mix <NEXT_INGR> 1 c. grated Cheddar cheese <INGR_END> <INSTR_START> Cook broccoli. <NEXT_INSTR> Mix soup, mayonnaise and soup together. <NEXT_INSTR> Add broccoli and eggs; cover with grated cheese. <NEXT_INSTR> Bake uncovered at 325° for 45 minutes or until hot and fluffy. <INSTR_END> <TITLE_START> Broccoli Casserole <TITLE_END> <RECIPE_END>\n",
      "\n",
      "\n",
      "Second Record:\n",
      "<RECIPE_START> <INPUT_START> margarine <NEXT_INPUT> white shortening <NEXT_INPUT> sugar <NEXT_INPUT> milk <INPUT_END> <INGR_START> 1 stick margarine <NEXT_INGR> 1/2 c. white shortening <NEXT_INGR> 1 c. sugar <NEXT_INGR> 2/3 c. milk <INGR_END> <INSTR_START> Cream margarine, white shortening and sugar. <NEXT_INSTR> Cream well for 15 minutes until smooth consistency, then add milk. <NEXT_INSTR> Beat until smooth and blended. <NEXT_INSTR> Spread over cooled cake. <NEXT_INSTR> Chill before frosting with chocolate topping. <INSTR_END> <TITLE_START> Ho Ho Cake <TITLE_END> <RECIPE_END>\n",
      "\n"
     ]
    }
   ],
   "source": [
    "with open(\"unsupervised_train.txt\", \"r\", encoding=\"utf-8\") as file:\n",
    "    # Read the first 2 lines\n",
    "    first_record = file.readline()\n",
    "    second_record = file.readline()\n",
    "\n",
    "# Display the first 2 records\n",
    "print(\"First Record:\")\n",
    "print(first_record)\n",
    "\n",
    "print(\"\\nSecond Record:\")\n",
    "print(second_record)"
   ]
  }
 ],
 "metadata": {
  "kernelspec": {
   "display_name": "Python 3",
   "language": "python",
   "name": "python3"
  },
  "language_info": {
   "codemirror_mode": {
    "name": "ipython",
    "version": 3
   },
   "file_extension": ".py",
   "mimetype": "text/x-python",
   "name": "python",
   "nbconvert_exporter": "python",
   "pygments_lexer": "ipython3",
   "version": "3.11.3"
  }
 },
 "nbformat": 4,
 "nbformat_minor": 2
}
