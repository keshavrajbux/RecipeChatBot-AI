{
 "cells": [
  {
   "cell_type": "code",
   "execution_count": 1,
   "metadata": {},
   "outputs": [
    {
     "name": "stderr",
     "output_type": "stream",
     "text": [
      "c:\\Users\\navya\\Desktop\\AnalyticsPracticum\\CookBuddy\\project_env\\Lib\\site-packages\\tqdm\\auto.py:21: TqdmWarning: IProgress not found. Please update jupyter and ipywidgets. See https://ipywidgets.readthedocs.io/en/stable/user_install.html\n",
      "  from .autonotebook import tqdm as notebook_tqdm\n"
     ]
    }
   ],
   "source": [
    "from transformers import AutoTokenizer, AutoModelWithLMHead, AutoModelForMaskedLM\n",
    "import numpy as np"
   ]
  },
  {
   "cell_type": "code",
   "execution_count": 2,
   "metadata": {},
   "outputs": [
    {
     "name": "stderr",
     "output_type": "stream",
     "text": [
      "Special tokens have been added in the vocabulary, make sure the associated word embeddings are fine-tuned or trained.\n",
      "Special tokens have been added in the vocabulary, make sure the associated word embeddings are fine-tuned or trained.\n",
      "c:\\Users\\navya\\Desktop\\AnalyticsPracticum\\CookBuddy\\project_env\\Lib\\site-packages\\transformers\\models\\auto\\modeling_auto.py:1499: FutureWarning: The class `AutoModelWithLMHead` is deprecated and will be removed in a future version. Please use `AutoModelForCausalLM` for causal language models, `AutoModelForMaskedLM` for masked language models and `AutoModelForSeq2SeqLM` for encoder-decoder models.\n",
      "  warnings.warn(\n"
     ]
    }
   ],
   "source": [
    "from transformers import AutoTokenizer, AutoModelWithLMHead\n",
    "tokenizer = AutoTokenizer.from_pretrained(\"mbien/recipenlg\")\n",
    "model = AutoModelWithLMHead.from_pretrained(\"mbien/recipenlg\")"
   ]
  },
  {
   "cell_type": "code",
   "execution_count": 3,
   "metadata": {},
   "outputs": [
    {
     "name": "stdout",
     "output_type": "stream",
     "text": [
      "Available datasets: ['test', 'train']\n"
     ]
    }
   ],
   "source": [
    "import h5py\n",
    "import torch\n",
    "\n",
    "# Open the HDF5 file\n",
    "hf = h5py.File(\"unsupervised.h5\", \"r\")\n",
    "datasets = list(hf.keys())\n",
    "print(\"Available datasets:\", datasets)\n",
    "# Load the data from the \"train\" dataset\n",
    "train_data = hf[\"train\"]\n",
    "train_chunk_0 = train_data[0]\n",
    "train_chunk_0_data = np.array(train_chunk_0)\n",
    "# Close the HDF5 file\n",
    "hf.close()"
   ]
  },
  {
   "cell_type": "code",
   "execution_count": 4,
   "metadata": {},
   "outputs": [
    {
     "name": "stdout",
     "output_type": "stream",
     "text": [
      "I want to make a delicious chocolate cake. Here's how: 1. Preheat oven to 350 degrees. 2. Line a 9x13 pan with parchment paper. 3. In a large bowl, combine cake ingredients. 4. Pour batter into prepared pan. 5. Bake for 30 minutes. 6. Remove from oven and cool completely. 7. Cut into bars. Chocolate Cake Bars butter sugar eggs flour baking powder salt milk vanilla lemon extract lemon peel lemon juice powdered sugar 1/2 c. butter 1 c. sugar 2 eggs 2 c. flour 1 tsp. baking powder 1/2 tsp. salt 1/2 c. milk 1 tsp. vanilla 1/2 tsp. lemon extract 1 tsp. lemon peel 1/4 c. lemon juice powdered sugar Cream butter and sugar. Add eggs\n"
     ]
    }
   ],
   "source": [
    "# Example prompt\n",
    "prompt = \"I want to make a delicious chocolate cake. Here's how:\"\n",
    "\n",
    "# Tokenize the prompt\n",
    "input_ids = tokenizer.encode(prompt, return_tensors=\"pt\")\n",
    "\n",
    "# Generate text using the model\n",
    "output = model.generate(input_ids, max_length=200, num_return_sequences=1, pad_token_id=50256)\n",
    "\n",
    "# Decode the generated text\n",
    "generated_text = tokenizer.decode(output[0], skip_special_tokens=True)\n",
    "print(generated_text)"
   ]
  },
  {
   "cell_type": "code",
   "execution_count": 12,
   "metadata": {},
   "outputs": [
    {
     "name": "stdout",
     "output_type": "stream",
     "text": [
      "Help me make a apple pie filling. Preheat oven to 350 degrees. In a medium bowl, mix together the apples, sugar, cinnamon, and salt. Pour into a 9x13 baking dish. Sprinkle the topping over the apples. Bake for 45 minutes. Serve warm. Apple Crisp butter sugar eggs flour baking powder salt milk vanilla lemon extract lemon juice powdered sugar 1/2 c. butter 1 c. sugar 2 eggs 2 c. flour 1 tsp. baking powder 1/2 tsp. salt 1/2 c. milk 1 tsp. vanilla 1 tsp. lemon extract 1 Tbsp. lemon juice powdered sugar Cream butter and sugar. Add eggs, one at a time, beating well after each addition. Sift together flour, baking powder and salt. Add alternately with milk to cre\n"
     ]
    }
   ],
   "source": [
    "# Convert the NumPy array to a list of token IDs\n",
    "prompt1=\"Help me make a apple pie\"\n",
    "\n",
    "# Convert the list of token IDs to a tensor\n",
    "input_ids = tokenizer.encode(prompt1, return_tensors=\"pt\")\n",
    "\n",
    "# Generate text using the model\n",
    "output = model.generate(input_ids, max_length=200, num_return_sequences=1, pad_token_id=50256)\n",
    "\n",
    "# Decode the generated text\n",
    "generated_text = tokenizer.decode(output[0], skip_special_tokens=True)\n",
    "print(generated_text)"
   ]
  }
 ],
 "metadata": {
  "kernelspec": {
   "display_name": "project_env",
   "language": "python",
   "name": "python3"
  },
  "language_info": {
   "codemirror_mode": {
    "name": "ipython",
    "version": 3
   },
   "file_extension": ".py",
   "mimetype": "text/x-python",
   "name": "python",
   "nbconvert_exporter": "python",
   "pygments_lexer": "ipython3",
   "version": "3.11.3"
  }
 },
 "nbformat": 4,
 "nbformat_minor": 2
}
